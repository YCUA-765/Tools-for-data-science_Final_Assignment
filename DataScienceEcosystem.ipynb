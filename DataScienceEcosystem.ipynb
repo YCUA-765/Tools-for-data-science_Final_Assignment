{
 "cells": [
  {
   "cell_type": "markdown",
   "id": "9d044640-a3ae-45de-8437-e8afc0889060",
   "metadata": {
    "jp-MarkdownHeadingCollapsed": true
   },
   "source": [
    "Exercise 2: Create markdown cell with title of the notebook"
   ]
  },
  {
   "cell_type": "markdown",
   "id": "6d12933f-84e9-46dd-8dba-b4d5fad0d5f9",
   "metadata": {},
   "source": [
    "# Data Science Tools and Ecosystem"
   ]
  },
  {
   "cell_type": "code",
   "execution_count": null,
   "id": "b0fc9e7f-43ff-4169-b1ed-96d698e2a446",
   "metadata": {},
   "outputs": [],
   "source": []
  },
  {
   "cell_type": "markdown",
   "id": "e8161937-fae7-477d-8f83-1fa41c23c7a0",
   "metadata": {},
   "source": [
    "Exercise 3 - Create a markdown cell for an introduction"
   ]
  },
  {
   "cell_type": "markdown",
   "id": "2d17d975-0b0e-44a6-a494-2c0c49580939",
   "metadata": {},
   "source": [
    "This is Dora's notebook, and I am going to introduce the basic tools used in the data analysis and its ecosystem. "
   ]
  },
  {
   "cell_type": "markdown",
   "id": "6d1b5906-975f-4b13-87f2-da3a9e7fe445",
   "metadata": {},
   "source": [
    "Exercise 10 - Insert a markdown cell to list Objectives"
   ]
  },
  {
   "cell_type": "markdown",
   "id": "1fc238e7-4105-4d02-97e0-f97737f14a6f",
   "metadata": {},
   "source": [
    "**Objectives:**\n",
    "* Listing popular languages in Data Science\n",
    "* Listing popular data science libraries\n",
    "* Listing popular data science tools by using single column table\n",
    "* Demonstrating arithmetic equations by executing the code cells in Note Book\n",
    "* Converting minutes into hours by using the code cells\n"
   ]
  },
  {
   "cell_type": "markdown",
   "id": "f4491c20-16cb-4210-a1ce-3504c5cd6b7c",
   "metadata": {},
   "source": [
    "Exercise 4 - Create a markdown cell to list data science languages"
   ]
  },
  {
   "cell_type": "code",
   "execution_count": null,
   "id": "14b48c3a-1688-42fa-8c4f-0250dfeb2a57",
   "metadata": {},
   "outputs": [],
   "source": [
    "Some of the popular languages that Data Scientists use are:\n",
    "1. Python\n",
    "2. R\n",
    "3. Julia\n",
    "4. C\n",
    "5. C++"
   ]
  },
  {
   "cell_type": "code",
   "execution_count": null,
   "id": "a8d90a6f-0490-4867-aa69-3eab43096567",
   "metadata": {},
   "outputs": [],
   "source": [
    "Exercise 5 - Create a markdown cell to list data science libraries"
   ]
  },
  {
   "cell_type": "markdown",
   "id": "43d087b5-80e6-410b-b3ed-7c98fe3eee6f",
   "metadata": {},
   "source": [
    "Some of the commonly used libraries used by Data Scientists include:\n",
    "1. pandas\n",
    "2. numpy\n",
    "3. scipy\n",
    "4. matplotlib\n",
    "5. seaborn\n",
    "6. plotly\n"
   ]
  },
  {
   "cell_type": "markdown",
   "id": "cb5b3fa9-96b3-490b-be74-2a95f14f01c1",
   "metadata": {},
   "source": [
    "Exercise 6 - Create a markdown cell with a table of Data Science tools"
   ]
  },
  {
   "cell_type": "markdown",
   "id": "97c76d45-0876-40f1-b110-d278d0193fd5",
   "metadata": {},
   "source": [
    "| Data Science Tools |\n",
    "|--------------------|\n",
    "| Jupyter Notebook   |\n",
    "| RStudio            |\n",
    "| VS Code            |"
   ]
  },
  {
   "cell_type": "markdown",
   "id": "7bf1e1d3-0c29-4b14-8d96-f190f8417d64",
   "metadata": {},
   "source": [
    "Exercise 7 - Create a markdown cell introducing arithmetic expression examples\n",
    "### The following are some examples of the arithmetc expressions in Python:\n"
   ]
  },
  {
   "cell_type": "markdown",
   "id": "ef63f243-6d45-41fa-b04d-db973d14d8e8",
   "metadata": {},
   "source": [
    "Exercise 8 - Create a code cell to multiply and add numbers"
   ]
  },
  {
   "cell_type": "code",
   "execution_count": 2,
   "id": "8924289b-15d9-40d2-a7f8-26ab9512dd9a",
   "metadata": {},
   "outputs": [
    {
     "data": {
      "text/plain": [
       "17"
      ]
     },
     "execution_count": 2,
     "metadata": {},
     "output_type": "execute_result"
    }
   ],
   "source": [
    "#The following is a simple equation of adding and multiplying integers\n",
    "(3*4)+5"
   ]
  },
  {
   "cell_type": "code",
   "execution_count": null,
   "id": "6655ad55-71f6-40dd-8c9f-424141abbe57",
   "metadata": {},
   "outputs": [],
   "source": [
    "Exercise 9 - Create a code cell to convert minutes to hours"
   ]
  },
  {
   "cell_type": "markdown",
   "id": "cb52b968-47d1-468b-8887-5e096df3a714",
   "metadata": {},
   "source": [
    "The following will illustrate how to turn 200 minutes into hours by dividing 60 hours:"
   ]
  },
  {
   "cell_type": "markdown",
   "id": "bd4afb66-d12f-4d1b-9af9-32579049ea26",
   "metadata": {},
   "source": [
    "200 min = 3.33 hours"
   ]
  },
  {
   "cell_type": "code",
   "execution_count": 6,
   "id": "16e58563-5c3f-4181-a3a8-0343c985df61",
   "metadata": {},
   "outputs": [
    {
     "data": {
      "text/plain": [
       "3.3333333333333335"
      ]
     },
     "execution_count": 6,
     "metadata": {},
     "output_type": "execute_result"
    }
   ],
   "source": [
    "200/60"
   ]
  },
  {
   "cell_type": "markdown",
   "id": "9f99d061-e530-4ac8-b964-bcfec3090634",
   "metadata": {},
   "source": [
    "Exercise 11 - Create a markdown cell to indicate the Author's name"
   ]
  },
  {
   "cell_type": "markdown",
   "id": "e5041b2d-d1f4-496b-b170-8e274a41061d",
   "metadata": {},
   "source": [
    "## Author\n",
    "yongxi Zhong (Dora)"
   ]
  },
  {
   "cell_type": "code",
   "execution_count": null,
   "id": "77a5ef0f-88e0-480c-bec0-66c12e89531b",
   "metadata": {},
   "outputs": [],
   "source": []
  }
 ],
 "metadata": {
  "kernelspec": {
   "display_name": "Python 3 (ipykernel)",
   "language": "python",
   "name": "python3"
  },
  "language_info": {
   "codemirror_mode": {
    "name": "ipython",
    "version": 3
   },
   "file_extension": ".py",
   "mimetype": "text/x-python",
   "name": "python",
   "nbconvert_exporter": "python",
   "pygments_lexer": "ipython3",
   "version": "3.12.3"
  }
 },
 "nbformat": 4,
 "nbformat_minor": 5
}
